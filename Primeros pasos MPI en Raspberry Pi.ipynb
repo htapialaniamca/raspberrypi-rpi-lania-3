{
 "cells": [
  {
   "cell_type": "markdown",
   "metadata": {},
   "source": [
    "# Primeros pasos MPI en Raspberry Pi\n",
    "<ol>\n",
    "<li>Nos conectamos mediante SSH a la Raspberry utilizando el cliente PuTTY</li>\n",
    "<li>Instalamos MPI para python: apt-get install python-mpi4py\n",
    "<li>En la raiz creamos los directorios comades/python con mkdir /comades/python</li>\n",
    "<li> Mediante secure copy copiamos el archivo primero.py a el directorio /python</li>\n",
    "\n"
   ]
  },
  {
   "cell_type": "code",
   "execution_count": 1,
   "metadata": {
    "collapsed": false
   },
   "outputs": [
    {
     "ename": "ImportError",
     "evalue": "No module named 'mpi4py'",
     "output_type": "error",
     "traceback": [
      "\u001b[0;31m---------------------------------------------------------------------------\u001b[0m",
      "\u001b[0;31mImportError\u001b[0m                               Traceback (most recent call last)",
      "\u001b[0;32m<ipython-input-1-34ea2e1f4857>\u001b[0m in \u001b[0;36m<module>\u001b[0;34m()\u001b[0m\n\u001b[1;32m      2\u001b[0m \u001b[1;33m\u001b[0m\u001b[0m\n\u001b[1;32m      3\u001b[0m \u001b[1;31m#script de tranferncia\u001b[0m\u001b[1;33m\u001b[0m\u001b[1;33m\u001b[0m\u001b[0m\n\u001b[0;32m----> 4\u001b[0;31m \u001b[1;32mfrom\u001b[0m \u001b[0mmpi4py\u001b[0m \u001b[1;32mimport\u001b[0m \u001b[0mMPI\u001b[0m\u001b[1;33m\u001b[0m\u001b[0m\n\u001b[0m\u001b[1;32m      5\u001b[0m \u001b[1;33m\u001b[0m\u001b[0m\n\u001b[1;32m      6\u001b[0m \u001b[0mcomm\u001b[0m \u001b[1;33m=\u001b[0m \u001b[0mMPI\u001b[0m\u001b[1;33m.\u001b[0m\u001b[0mCOMM_WORLD\u001b[0m\u001b[1;33m\u001b[0m\u001b[0m\n",
      "\u001b[0;31mImportError\u001b[0m: No module named 'mpi4py'"
     ]
    }
   ],
   "source": [
    "#script de tranferncia\n",
    "from mpi4py import MPI\n",
    "\n",
    "comm = MPI.COMM_WORLD\n",
    "rank = comm.Get_rank()\n",
    "\n",
    "if rank == 0:\n",
    "    # Si el rank es 0 enviar el diccionario al nodo con rank 1 \n",
    "    data = {'a': 7, 'b':3.14159}\n",
    "    comm.send(data, dest = 1, tag=11)\n",
    "    print('de rank 0: ')\n",
    "    print(data)\n",
    "else:\n",
    "    # Sino recivir datos del host 0\n",
    "    data = comm.recv(source=0, tag=11)\n",
    "    print('de '+str(rank)+': ')\n",
    "    print(data)\n",
    "\n",
    "\n"
   ]
  },
  {
   "cell_type": "markdown",
   "metadata": {},
   "source": [
    "\n",
    "### Con los archivos disponibles en cada Raspberry se ejecuta el scrip de python en ambos hosts\n",
    " \n",
    "\n",
    " mpiexec -n 2 --host rpi-lania3.local,rpi-lania4.local python primero.\n",
    " <br/>\n",
    " La salida es la siguiente:<br/><br/>\n",
    " <div style=\"background-color: black; color:white\">\n",
    " \n",
    " pi@rpi-lania1.local's password:<br/> \n",
    "de rank 0:<br/>\n",
    "{'a': 7, 'b': 3.14159}<br/>\n",
    "de 1:<br/>\n",
    "{'a': 7, 'b': 3.14159}<br/>\n",
    "\n",
    " </div>\n",
    " "
   ]
  },
  {
   "cell_type": "code",
   "execution_count": null,
   "metadata": {
    "collapsed": true
   },
   "outputs": [],
   "source": []
  }
 ],
 "metadata": {
  "anaconda-cloud": {},
  "kernelspec": {
   "display_name": "Python [default]",
   "language": "python",
   "name": "python3"
  },
  "language_info": {
   "codemirror_mode": {
    "name": "ipython",
    "version": 3
   },
   "file_extension": ".py",
   "mimetype": "text/x-python",
   "name": "python",
   "nbconvert_exporter": "python",
   "pygments_lexer": "ipython3",
   "version": "3.5.2"
  }
 },
 "nbformat": 4,
 "nbformat_minor": 1
}
